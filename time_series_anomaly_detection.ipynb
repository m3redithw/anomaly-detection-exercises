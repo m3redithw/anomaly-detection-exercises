{
 "cells": [
  {
   "cell_type": "markdown",
   "id": "26147ed3",
   "metadata": {},
   "source": [
    "# Time Series Anomaly Detection Exercises"
   ]
  },
  {
   "cell_type": "markdown",
   "id": "1ba36813",
   "metadata": {},
   "source": [
    "The dataset for these exercises lives in the Codeup Data Science MySQL Server. The database name is curriculum_logs."
   ]
  },
  {
   "cell_type": "markdown",
   "id": "22240e34",
   "metadata": {},
   "source": [
    "## 1. Label students by the program they are in."
   ]
  },
  {
   "cell_type": "code",
   "execution_count": null,
   "id": "d0c0a948",
   "metadata": {},
   "outputs": [],
   "source": []
  },
  {
   "cell_type": "markdown",
   "id": "5d416c86",
   "metadata": {},
   "source": [
    "## 2. Is it possible to identify the `user_id ` of a staff member?"
   ]
  },
  {
   "cell_type": "markdown",
   "id": "60c702ef",
   "metadata": {},
   "source": [
    "## 3. Identify students who are accessing our curriculum pages beyond the end of their time at Codeup."
   ]
  },
  {
   "cell_type": "markdown",
   "id": "5a9af193",
   "metadata": {},
   "source": [
    "## 4. Identify students who present anomalous activity using the Bollinger Band method, but reduce K to 2."
   ]
  },
  {
   "cell_type": "markdown",
   "id": "f49dac9b",
   "metadata": {},
   "source": [
    "## 5. Plot the access activity of these students."
   ]
  },
  {
   "cell_type": "code",
   "execution_count": null,
   "id": "3c326397",
   "metadata": {},
   "outputs": [],
   "source": []
  }
 ],
 "metadata": {
  "kernelspec": {
   "display_name": "Python 3 (ipykernel)",
   "language": "python",
   "name": "python3"
  },
  "language_info": {
   "codemirror_mode": {
    "name": "ipython",
    "version": 3
   },
   "file_extension": ".py",
   "mimetype": "text/x-python",
   "name": "python",
   "nbconvert_exporter": "python",
   "pygments_lexer": "ipython3",
   "version": "3.9.12"
  }
 },
 "nbformat": 4,
 "nbformat_minor": 5
}
